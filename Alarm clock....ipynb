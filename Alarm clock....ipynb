{
 "cells": [
  {
   "cell_type": "code",
   "execution_count": 4,
   "id": "dcd8eccf",
   "metadata": {},
   "outputs": [],
   "source": [
    "# importing library\n",
    "from tkinter import *\n",
    "import datetime\n",
    "import time\n",
    "import winsound\n",
    "from PIL import Image , ImageTk\n",
    "\n",
    "\n",
    "def Alarm(set_alarm_timer):\n",
    "    while True:\n",
    "        time.sleep(1)\n",
    "        actual_time = datetime.datetime.now()\n",
    "        cur_time = actual_time.strftime(\"%H:%M:%S\")\n",
    "        cur_date = actual_time.strftime(\"%d/%m/%Y\")\n",
    "        msg=\"Current Time: \"+str(cur_time)\n",
    "        print(msg)\n",
    "        if cur_time == set_alarm_timer:\n",
    "            freq=500\n",
    "            duration=2000\n",
    "            winsound.Beep(freq,duration)\n",
    "            break\n",
    " \n",
    "def get_alarm_time():\n",
    "    alarm_set_time = f\"{hour.get()}:{min.get()}:{sec.get()}\"\n",
    "    Alarm(alarm_set_time)\n",
    "    \n",
    "    \n",
    "# Create Object \n",
    "window = Tk()\n",
    "window.title(\"Alarm Clock\")\n",
    "\n",
    "# Set geometry\n",
    "window.geometry(\"600x400\")\n",
    "window.config(bg=\"white\")\n",
    "\n",
    "# set image\n",
    "image = Image.open(r\"C:\\Users\\64in\\Pictures\\clock.jpg\")\n",
    "photo = ImageTk.PhotoImage(image)\n",
    "label = Label(image=photo).pack()\n",
    "window.resizable(width=False,height=False)\n",
    "\n",
    "# Add Labels, Frame, Button, Optionmenu\n",
    "time_format=Label(window, text= \"Remember to set time in 24 hour format!\", fg=\"black\",bg=\"white\",font=(\"Arial\",15)).place(x=20,y=160)\n",
    "addTime = Label(window,text = \"Hour     Min     Sec\",font=60,fg=\"black\",bg=\"white\").place(x = 210)\n",
    "setYourAlarm = Label(window,text = \"Set Time for Alarm: \",fg=\"black\",bg=\"white\",font=(\"Helevetica\",15)).place(x=10, y=40)\n",
    " \n",
    "hour = StringVar()\n",
    "min = StringVar()\n",
    "sec = StringVar()\n",
    " \n",
    "hourTime= Entry(window,textvariable = hour,bg = \"sky blue\",width = 4,font=(20)).place(x=210,y=40)\n",
    "minTime= Entry(window,textvariable = min,bg = \"sky blue\",width = 4,font=(20)).place(x=270,y=40)\n",
    "secTime = Entry(window,textvariable = sec,bg = \"sky blue\",width = 4,font=(20)).place(x=330,y=40)\n",
    " \n",
    "submit = Button(window,text = \"Set Your Alarm\",fg=\"Black\",bg=\"sky blue\",width = 15,command = get_alarm_time,font=(20)).place(x =100,y=100)\n",
    " \n",
    "window.mainloop()"
   ]
  },
  {
   "cell_type": "code",
   "execution_count": null,
   "id": "1fe0e1c3",
   "metadata": {},
   "outputs": [],
   "source": []
  }
 ],
 "metadata": {
  "kernelspec": {
   "display_name": "Python 3 (ipykernel)",
   "language": "python",
   "name": "python3"
  },
  "language_info": {
   "codemirror_mode": {
    "name": "ipython",
    "version": 3
   },
   "file_extension": ".py",
   "mimetype": "text/x-python",
   "name": "python",
   "nbconvert_exporter": "python",
   "pygments_lexer": "ipython3",
   "version": "3.9.13"
  }
 },
 "nbformat": 4,
 "nbformat_minor": 5
}
